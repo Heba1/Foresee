{
 "cells": [
  {
   "cell_type": "code",
   "execution_count": 266,
   "metadata": {},
   "outputs": [],
   "source": [
    "import csv\n",
    "import pandas as pd\n",
    "import itertools  "
   ]
  },
  {
   "cell_type": "code",
   "execution_count": 267,
   "metadata": {},
   "outputs": [],
   "source": [
    "#read the csv file\n",
    "dataset=pd.read_csv(\"D:\\job prediction\\data\\jobDataset_wadhefa.csv\")"
   ]
  },
  {
   "cell_type": "code",
   "execution_count": 268,
   "metadata": {},
   "outputs": [
    {
     "name": "stdout",
     "output_type": "stream",
     "text": [
      "Index(['job_date', 'job_title', 'job_location'], dtype='object')\n"
     ]
    }
   ],
   "source": [
    "print(dataset.columns)"
   ]
  },
  {
   "cell_type": "code",
   "execution_count": 269,
   "metadata": {},
   "outputs": [
    {
     "name": "stdout",
     "output_type": "stream",
     "text": [
      "(16727, 3)\n"
     ]
    }
   ],
   "source": [
    "print(dataset.shape)"
   ]
  },
  {
   "cell_type": "code",
   "execution_count": 270,
   "metadata": {},
   "outputs": [],
   "source": [
    "year = []\n",
    "title = dataset['job_title']"
   ]
  },
  {
   "cell_type": "code",
   "execution_count": 271,
   "metadata": {},
   "outputs": [],
   "source": [
    "# spilt the year and save it \n",
    "def get_data(filename):\n",
    "    with open(filename,'r') as csvfile:\n",
    "        csvFileReader = csv.reader(csvfile)\n",
    "        next(csvFileReader)\n",
    "        for row in csvFileReader:\n",
    "            year.append(int (row[0].split('/')[2]))\n",
    "    return"
   ]
  },
  {
   "cell_type": "code",
   "execution_count": 272,
   "metadata": {},
   "outputs": [],
   "source": [
    "get_data('Desktop\\jobDataset_wadhefa.csv')"
   ]
  },
  {
   "cell_type": "code",
   "execution_count": 273,
   "metadata": {},
   "outputs": [],
   "source": [
    "dataset2=pd.read_csv(\"D:\\\\jobDataset_wadhefaa.csv\")"
   ]
  },
  {
   "cell_type": "code",
   "execution_count": 274,
   "metadata": {},
   "outputs": [],
   "source": [
    "for i in range(0,len(dataset['job_date'])):\n",
    "    dataset.job_date[i]=year[i]"
   ]
  },
  {
   "cell_type": "code",
   "execution_count": 275,
   "metadata": {},
   "outputs": [],
   "source": [
    "def encode(data,column):\n",
    "    i=0\n",
    "    col=dict()\n",
    "    for q in range(len(data.index)):\n",
    "        x=data.iloc[q][column]\n",
    "        if not data.iloc[q][column] in col:\n",
    "            col.update({x:i})\n",
    "            i+=1\n",
    "    return col"
   ]
  },
  {
   "cell_type": "code",
   "execution_count": 276,
   "metadata": {},
   "outputs": [],
   "source": [
    "cities=encode(dataset,'job_location')"
   ]
  },
  {
   "cell_type": "code",
   "execution_count": 277,
   "metadata": {},
   "outputs": [],
   "source": [
    "reader = csv.reader(open('D:\\jobDataset_wadhefaa.csv', 'r'))\n",
    "d = {}\n",
    "for row in reader:\n",
    "    k , v = row\n",
    "    d[k] = v"
   ]
  },
  {
   "cell_type": "code",
   "execution_count": 278,
   "metadata": {},
   "outputs": [],
   "source": [
    "dataset['job_location']=dataset['job_location'].map(d)"
   ]
  },
  {
   "cell_type": "code",
   "execution_count": 283,
   "metadata": {},
   "outputs": [
    {
     "data": {
      "text/plain": [
       "0                Riyadh\n",
       "1                Riyadh\n",
       "2                Jeddah\n",
       "3                Jeddah\n",
       "4                Jeddah\n",
       "5                Riyadh\n",
       "6                Riyadh\n",
       "7                Riyadh\n",
       "8                Jeddah\n",
       "9                Jeddah\n",
       "10               Jeddah\n",
       "11               Jeddah\n",
       "12               Dammam\n",
       "13               Dammam\n",
       "14             Buraydah\n",
       "15               Riyadh\n",
       "16               Jeddah\n",
       "17              Onaizah\n",
       "18               Riyadh\n",
       "19       Hafer Al-Baten\n",
       "20               Riyadh\n",
       "21               Makkah\n",
       "22               Riyadh\n",
       "23               Riyadh\n",
       "24               Jeddah\n",
       "25               Riyadh\n",
       "26                 Abha\n",
       "27               Riyadh\n",
       "28                 Taif\n",
       "29               Jeddah\n",
       "              ...      \n",
       "16697            Dammam\n",
       "16698              Taif\n",
       "16699              Taif\n",
       "16700            Riyadh\n",
       "16701            Riyadh\n",
       "16702            Riyadh\n",
       "16703            Riyadh\n",
       "16704            Riyadh\n",
       "16705            Riyadh\n",
       "16706            Dammam\n",
       "16707            Dammam\n",
       "16708            Riyadh\n",
       "16709            Dammam\n",
       "16710            Jeddah\n",
       "16711            Jeddah\n",
       "16712            Riyadh\n",
       "16713            Riyadh\n",
       "16714            Riyadh\n",
       "16715            Riyadh\n",
       "16716            Jeddah\n",
       "16717            Dammam\n",
       "16718     All Provinces\n",
       "16719            Makkah\n",
       "16720             Yanbu\n",
       "16721            Tabouk\n",
       "16722            Riyadh\n",
       "16723            Riyadh\n",
       "16724            Riyadh\n",
       "16725            Riyadh\n",
       "16726            Khobar\n",
       "Name: job_location, Length: 16727, dtype: object"
      ]
     },
     "execution_count": 283,
     "metadata": {},
     "output_type": "execute_result"
    }
   ],
   "source": [
    "dataset['job_location']"
   ]
  },
  {
   "cell_type": "code",
   "execution_count": 287,
   "metadata": {},
   "outputs": [],
   "source": [
    "dataset.to_csv(\"hello1.csv\",mode= 'w' )"
   ]
  },
  {
   "cell_type": "code",
   "execution_count": null,
   "metadata": {},
   "outputs": [],
   "source": []
  }
 ],
 "metadata": {
  "kernelspec": {
   "display_name": "Python 3",
   "language": "python",
   "name": "python3"
  },
  "language_info": {
   "codemirror_mode": {
    "name": "ipython",
    "version": 3
   },
   "file_extension": ".py",
   "mimetype": "text/x-python",
   "name": "python",
   "nbconvert_exporter": "python",
   "pygments_lexer": "ipython3",
   "version": "3.6.5"
  }
 },
 "nbformat": 4,
 "nbformat_minor": 2
}
